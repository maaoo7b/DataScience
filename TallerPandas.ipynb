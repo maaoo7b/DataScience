{
  "nbformat": 4,
  "nbformat_minor": 0,
  "metadata": {
    "colab": {
      "provenance": []
    },
    "kernelspec": {
      "name": "python3",
      "display_name": "Python 3"
    },
    "language_info": {
      "name": "python"
    }
  },
  "cells": [
    {
      "cell_type": "markdown",
      "source": [
        "# **TALLER PANDAS**\n",
        "## **Brayan Mauricio Cruz Martínez**\n",
        "### Especialización Bases de Datos - Programación en Bases de Datos.\n",
        "\n",
        "# Nota: Cargar al Colab el archivo **employees_43.csv**\n"
      ],
      "metadata": {
        "id": "gT0o_iHGISdp"
      }
    },
    {
      "cell_type": "code",
      "execution_count": null,
      "metadata": {
        "id": "AjvOAvlbIR3w"
      },
      "outputs": [],
      "source": [
        "import pandas as pd\n",
        "from datetime import datetime"
      ]
    },
    {
      "cell_type": "markdown",
      "source": [
        "3) Reading employees_43.csv locally (Extract)"
      ],
      "metadata": {
        "id": "EPfuZ0k5KCxM"
      }
    },
    {
      "cell_type": "code",
      "source": [
        "df = pd.read_csv(\"/content/employees_43.csv\",sep=\"-\")\n",
        "print(df.info())\n",
        "df"
      ],
      "metadata": {
        "id": "pmHQegi4KGse"
      },
      "execution_count": null,
      "outputs": []
    },
    {
      "cell_type": "markdown",
      "source": [
        "4) Counting number of **NULLS/NA** in each column"
      ],
      "metadata": {
        "id": "ZwFQbtiDKSn8"
      }
    },
    {
      "cell_type": "code",
      "source": [
        "print(\"Quantity of nulls/na in each column: \\n\",df.isnull().sum())"
      ],
      "metadata": {
        "id": "9DS9LXSKKUga"
      },
      "execution_count": null,
      "outputs": []
    },
    {
      "cell_type": "markdown",
      "source": [
        "5) Deleting all **NULLS/NA** in the df. (Transform)"
      ],
      "metadata": {
        "id": "mb053gy-KaL9"
      }
    },
    {
      "cell_type": "code",
      "source": [
        "df=df.dropna()\n",
        "print(\"New df after deleting nulls/na: \\n\",df.info())"
      ],
      "metadata": {
        "id": "qsqyWRpnKvjF"
      },
      "execution_count": null,
      "outputs": []
    },
    {
      "cell_type": "markdown",
      "source": [
        "6) Parsing column datatypes to its rightful type. (Transform)"
      ],
      "metadata": {
        "id": "8ZRkZFMUK-9C"
      }
    },
    {
      "cell_type": "code",
      "source": [
        "#Parsing columns First Name, Gender, Team, Senior Management and Bonus from Object to String.\n",
        "df['First Name']=df['First Name'].astype('string')\n",
        "df['Gender']=df['Gender'].astype('string')\n",
        "df['Team']=df['Team'].astype('string')\n",
        "df['Senior Management']=df['Senior Management'].astype('string')\n",
        "df['Bonus %']=df['Bonus %'].astype('string')\n",
        "\n",
        "#Parsing column Bonus from String to Float.\n",
        "df['Bonus %'] = df['Bonus %'].apply(lambda x: x.replace(\",\",\".\"))\n",
        "df['Bonus %'] = df['Bonus %'].astype('float64')\n",
        "\n",
        "#Parsing Salary to a numeric type and filling possibles N/A fields with a 0.\n",
        "df['Salary'] = pd.to_numeric(df['Salary'], errors='coerce')\n",
        "df['Salary'] = df['Salary'].fillna(0)\n",
        "df['Salary'] = df['Salary'].astype(int)\n",
        "\n",
        "#Parsing Start Date to Date (Month/Day/Year).\n",
        "df['Start Date'] = pd.to_datetime(df['Start Date'], format='%m/%d/%Y', errors='coerce')\n",
        "\n",
        "#Parsing Last Login Time to Date (Hour:Minutes)\n",
        "df['Last Login Time'] = pd.to_datetime(df['Last Login Time'],format='%I:%M %p', errors='coerce')\n"
      ],
      "metadata": {
        "id": "8-vfhkfzK-zE"
      },
      "execution_count": null,
      "outputs": []
    },
    {
      "cell_type": "code",
      "source": [
        "print(\"Dataframe with each column to its rightful data type: \", df.info())"
      ],
      "metadata": {
        "id": "LF6dJla5NL_V"
      },
      "execution_count": null,
      "outputs": []
    },
    {
      "cell_type": "markdown",
      "source": [
        "7) Ordering alphabetically the dataframe by First Name column."
      ],
      "metadata": {
        "id": "44ZI7dYSMoJs"
      }
    },
    {
      "cell_type": "code",
      "source": [
        "sorted_df=df.sort_values(by=['First Name'], ascending=True)\n",
        "sorted_df"
      ],
      "metadata": {
        "id": "6B2Fk9d3NhF7"
      },
      "execution_count": null,
      "outputs": []
    },
    {
      "cell_type": "markdown",
      "source": [
        "8) Creating new column as index and assigning a value starting from 100."
      ],
      "metadata": {
        "id": "OSJdQRiMNnMK"
      }
    },
    {
      "cell_type": "code",
      "source": [
        "new_serie = pd.Series(range(100, 100 + len(df)), name='Index')\n",
        "sorted_df['Index'] = range(100, 100 + len(df))\n",
        "sorted_df"
      ],
      "metadata": {
        "id": "rGbkJN5VNtWs"
      },
      "execution_count": null,
      "outputs": []
    },
    {
      "cell_type": "markdown",
      "source": [
        "9) Creating a new dataframe with unique values from column Team."
      ],
      "metadata": {
        "id": "zmH_kLMoN5gd"
      }
    },
    {
      "cell_type": "code",
      "source": [
        "team_unique = sorted_df['Team'].unique()\n",
        "team_df = pd.DataFrame(team_unique, columns=['Team'])\n",
        "team_df"
      ],
      "metadata": {
        "id": "3oLjebkoOCnF"
      },
      "execution_count": null,
      "outputs": []
    },
    {
      "cell_type": "markdown",
      "source": [
        "10) Assigning to each Team a PK"
      ],
      "metadata": {
        "id": "AtZ6zWPnOH0U"
      }
    },
    {
      "cell_type": "code",
      "source": [
        "team_df.insert(0, 'ID_Team', range(1, len(team_df) + 1))\n",
        "team_df"
      ],
      "metadata": {
        "id": "61vxzMwROOUd"
      },
      "execution_count": null,
      "outputs": []
    },
    {
      "cell_type": "markdown",
      "source": [
        "11) Assigning ID_Team from team_df into a new Column in sorted_df each according to the Team field."
      ],
      "metadata": {
        "id": "ncgwT4uBOVAF"
      }
    },
    {
      "cell_type": "code",
      "source": [
        "sorted_df['ID_Team'] = sorted_df['Team'].map(team_df.set_index('Team')['ID_Team'])\n",
        "\n",
        "sorted_df"
      ],
      "metadata": {
        "id": "ENh2tfk8OkJ1"
      },
      "execution_count": null,
      "outputs": []
    },
    {
      "cell_type": "markdown",
      "source": [
        "12) Deleting column Team(string), which contains the names of the team in sorted_df."
      ],
      "metadata": {
        "id": "clr8xNHkO4V8"
      }
    },
    {
      "cell_type": "code",
      "source": [
        "sorted_df= sorted_df.drop(columns='Team')\n",
        "sorted_df"
      ],
      "metadata": {
        "id": "Gbs_qs8pPFTq"
      },
      "execution_count": null,
      "outputs": []
    },
    {
      "cell_type": "markdown",
      "source": [
        "13) Counting the employees by Team in sorted_df."
      ],
      "metadata": {
        "id": "xaVrgH2sPKzf"
      }
    },
    {
      "cell_type": "code",
      "source": [
        "quantity_employees_byTeam = sorted_df.groupby('ID_Team').size().reset_index(name='Quantity of Employees')\n",
        "\n",
        "quantity_employees_byTeam"
      ],
      "metadata": {
        "id": "SJ7OVsJkPPRH"
      },
      "execution_count": null,
      "outputs": []
    },
    {
      "cell_type": "markdown",
      "source": [
        "14) Calculating the total of salaries by team"
      ],
      "metadata": {
        "id": "mwfGn5OIPiGc"
      }
    },
    {
      "cell_type": "code",
      "source": [
        "salaries_by_team = sorted_df.groupby('ID_Team')['Salary'].sum().reset_index(name='Salary by Team')\n",
        "salaries_by_team"
      ],
      "metadata": {
        "id": "sQ9503FwPxPM"
      },
      "execution_count": null,
      "outputs": []
    },
    {
      "cell_type": "markdown",
      "source": [
        "15) Quantity of women and men in sorted_df"
      ],
      "metadata": {
        "id": "6K0LJ0HKP6RV"
      }
    },
    {
      "cell_type": "code",
      "source": [
        "quantity_by_gender = sorted_df.groupby('Gender')['Gender'].count().reset_index(name='Quantity by Gender')\n",
        "quantity_by_gender"
      ],
      "metadata": {
        "id": "la9rGdH9QO5c"
      },
      "execution_count": null,
      "outputs": []
    },
    {
      "cell_type": "markdown",
      "source": [
        "16) Employees who logged in the current month."
      ],
      "metadata": {
        "id": "Pj3ePHI8QZiu"
      }
    },
    {
      "cell_type": "code",
      "source": [
        "current_month = datetime.now().month\n",
        "employees_currentMonth_LoggedIn = sorted_df[sorted_df['Start Date'].dt.month == current_month]\n",
        "employees_currentMonth_LoggedIn"
      ],
      "metadata": {
        "id": "QnNNnUXZQjKo"
      },
      "execution_count": null,
      "outputs": []
    },
    {
      "cell_type": "markdown",
      "source": [
        "17) Quantity of employees who logged in by year"
      ],
      "metadata": {
        "id": "B1OQCtGRQ2Q-"
      }
    },
    {
      "cell_type": "code",
      "source": [
        "quantity_year = sorted_df.groupby(sorted_df['Start Date'].dt.year)['Start Date'].count().reset_index(name='Quantity by Year')\n",
        "quantity_year"
      ],
      "metadata": {
        "id": "MglPBLz_Q-7L"
      },
      "execution_count": null,
      "outputs": []
    },
    {
      "cell_type": "markdown",
      "source": [
        "18) Quantity of employees who haven't logged in the last fifteen years."
      ],
      "metadata": {
        "id": "QAuVGEkYRJRN"
      }
    },
    {
      "cell_type": "code",
      "source": [
        "quantity_year_fy = sorted_df.groupby(sorted_df['Start Date'].dt.year)['Start Date'].count().reset_index(name='Quantity by Year')\n",
        "quantity_year_fy = quantity_year_fy[quantity_year_fy['Start Date'] >= 2009]\n",
        "quantity_year_fy"
      ],
      "metadata": {
        "id": "1ryUwdsmRZ8v"
      },
      "execution_count": null,
      "outputs": []
    },
    {
      "cell_type": "markdown",
      "source": [
        "19) Joining team_df and sorted_df to generate a new df."
      ],
      "metadata": {
        "id": "2tH0Xre8Coy0"
      }
    },
    {
      "cell_type": "code",
      "source": [
        "new_df = pd.merge(sorted_df,team_df, how='inner', on='ID_Team')\n",
        "new_df = new_df[new_df['Start Date'].dt.year>2000]\n",
        "final_df = new_df[['First Name','Salary','Team']]\n",
        "\n",
        "final_df"
      ],
      "metadata": {
        "colab": {
          "base_uri": "https://localhost:8080/",
          "height": 424
        },
        "id": "UhE4RIZ6C_5h",
        "outputId": "c672d906-305a-461d-d1f9-fa18b3fd76fa"
      },
      "execution_count": null,
      "outputs": [
        {
          "output_type": "execute_result",
          "data": {
            "text/plain": [
              "    First Name  Salary             Team\n",
              "1          Amy   75415  Client Services\n",
              "3         Anna  117293  Client Services\n",
              "5      Barbara   85718  Client Services\n",
              "6     Benjamin  114356  Client Services\n",
              "7       Bonnie   90427  Client Services\n",
              "..         ...     ...              ...\n",
              "759    Theresa   75661            Legal\n",
              "760    Timothy   49473            Legal\n",
              "761       Tina   88276            Legal\n",
              "762      Wanda   65362            Legal\n",
              "763     Willie   55038            Legal\n",
              "\n",
              "[356 rows x 3 columns]"
            ],
            "text/html": [
              "\n",
              "  <div id=\"df-54c8cbc8-c2aa-463b-9c19-f1ec87517ac5\" class=\"colab-df-container\">\n",
              "    <div>\n",
              "<style scoped>\n",
              "    .dataframe tbody tr th:only-of-type {\n",
              "        vertical-align: middle;\n",
              "    }\n",
              "\n",
              "    .dataframe tbody tr th {\n",
              "        vertical-align: top;\n",
              "    }\n",
              "\n",
              "    .dataframe thead th {\n",
              "        text-align: right;\n",
              "    }\n",
              "</style>\n",
              "<table border=\"1\" class=\"dataframe\">\n",
              "  <thead>\n",
              "    <tr style=\"text-align: right;\">\n",
              "      <th></th>\n",
              "      <th>First Name</th>\n",
              "      <th>Salary</th>\n",
              "      <th>Team</th>\n",
              "    </tr>\n",
              "  </thead>\n",
              "  <tbody>\n",
              "    <tr>\n",
              "      <th>1</th>\n",
              "      <td>Amy</td>\n",
              "      <td>75415</td>\n",
              "      <td>Client Services</td>\n",
              "    </tr>\n",
              "    <tr>\n",
              "      <th>3</th>\n",
              "      <td>Anna</td>\n",
              "      <td>117293</td>\n",
              "      <td>Client Services</td>\n",
              "    </tr>\n",
              "    <tr>\n",
              "      <th>5</th>\n",
              "      <td>Barbara</td>\n",
              "      <td>85718</td>\n",
              "      <td>Client Services</td>\n",
              "    </tr>\n",
              "    <tr>\n",
              "      <th>6</th>\n",
              "      <td>Benjamin</td>\n",
              "      <td>114356</td>\n",
              "      <td>Client Services</td>\n",
              "    </tr>\n",
              "    <tr>\n",
              "      <th>7</th>\n",
              "      <td>Bonnie</td>\n",
              "      <td>90427</td>\n",
              "      <td>Client Services</td>\n",
              "    </tr>\n",
              "    <tr>\n",
              "      <th>...</th>\n",
              "      <td>...</td>\n",
              "      <td>...</td>\n",
              "      <td>...</td>\n",
              "    </tr>\n",
              "    <tr>\n",
              "      <th>759</th>\n",
              "      <td>Theresa</td>\n",
              "      <td>75661</td>\n",
              "      <td>Legal</td>\n",
              "    </tr>\n",
              "    <tr>\n",
              "      <th>760</th>\n",
              "      <td>Timothy</td>\n",
              "      <td>49473</td>\n",
              "      <td>Legal</td>\n",
              "    </tr>\n",
              "    <tr>\n",
              "      <th>761</th>\n",
              "      <td>Tina</td>\n",
              "      <td>88276</td>\n",
              "      <td>Legal</td>\n",
              "    </tr>\n",
              "    <tr>\n",
              "      <th>762</th>\n",
              "      <td>Wanda</td>\n",
              "      <td>65362</td>\n",
              "      <td>Legal</td>\n",
              "    </tr>\n",
              "    <tr>\n",
              "      <th>763</th>\n",
              "      <td>Willie</td>\n",
              "      <td>55038</td>\n",
              "      <td>Legal</td>\n",
              "    </tr>\n",
              "  </tbody>\n",
              "</table>\n",
              "<p>356 rows × 3 columns</p>\n",
              "</div>\n",
              "    <div class=\"colab-df-buttons\">\n",
              "\n",
              "  <div class=\"colab-df-container\">\n",
              "    <button class=\"colab-df-convert\" onclick=\"convertToInteractive('df-54c8cbc8-c2aa-463b-9c19-f1ec87517ac5')\"\n",
              "            title=\"Convert this dataframe to an interactive table.\"\n",
              "            style=\"display:none;\">\n",
              "\n",
              "  <svg xmlns=\"http://www.w3.org/2000/svg\" height=\"24px\" viewBox=\"0 -960 960 960\">\n",
              "    <path d=\"M120-120v-720h720v720H120Zm60-500h600v-160H180v160Zm220 220h160v-160H400v160Zm0 220h160v-160H400v160ZM180-400h160v-160H180v160Zm440 0h160v-160H620v160ZM180-180h160v-160H180v160Zm440 0h160v-160H620v160Z\"/>\n",
              "  </svg>\n",
              "    </button>\n",
              "\n",
              "  <style>\n",
              "    .colab-df-container {\n",
              "      display:flex;\n",
              "      gap: 12px;\n",
              "    }\n",
              "\n",
              "    .colab-df-convert {\n",
              "      background-color: #E8F0FE;\n",
              "      border: none;\n",
              "      border-radius: 50%;\n",
              "      cursor: pointer;\n",
              "      display: none;\n",
              "      fill: #1967D2;\n",
              "      height: 32px;\n",
              "      padding: 0 0 0 0;\n",
              "      width: 32px;\n",
              "    }\n",
              "\n",
              "    .colab-df-convert:hover {\n",
              "      background-color: #E2EBFA;\n",
              "      box-shadow: 0px 1px 2px rgba(60, 64, 67, 0.3), 0px 1px 3px 1px rgba(60, 64, 67, 0.15);\n",
              "      fill: #174EA6;\n",
              "    }\n",
              "\n",
              "    .colab-df-buttons div {\n",
              "      margin-bottom: 4px;\n",
              "    }\n",
              "\n",
              "    [theme=dark] .colab-df-convert {\n",
              "      background-color: #3B4455;\n",
              "      fill: #D2E3FC;\n",
              "    }\n",
              "\n",
              "    [theme=dark] .colab-df-convert:hover {\n",
              "      background-color: #434B5C;\n",
              "      box-shadow: 0px 1px 3px 1px rgba(0, 0, 0, 0.15);\n",
              "      filter: drop-shadow(0px 1px 2px rgba(0, 0, 0, 0.3));\n",
              "      fill: #FFFFFF;\n",
              "    }\n",
              "  </style>\n",
              "\n",
              "    <script>\n",
              "      const buttonEl =\n",
              "        document.querySelector('#df-54c8cbc8-c2aa-463b-9c19-f1ec87517ac5 button.colab-df-convert');\n",
              "      buttonEl.style.display =\n",
              "        google.colab.kernel.accessAllowed ? 'block' : 'none';\n",
              "\n",
              "      async function convertToInteractive(key) {\n",
              "        const element = document.querySelector('#df-54c8cbc8-c2aa-463b-9c19-f1ec87517ac5');\n",
              "        const dataTable =\n",
              "          await google.colab.kernel.invokeFunction('convertToInteractive',\n",
              "                                                    [key], {});\n",
              "        if (!dataTable) return;\n",
              "\n",
              "        const docLinkHtml = 'Like what you see? Visit the ' +\n",
              "          '<a target=\"_blank\" href=https://colab.research.google.com/notebooks/data_table.ipynb>data table notebook</a>'\n",
              "          + ' to learn more about interactive tables.';\n",
              "        element.innerHTML = '';\n",
              "        dataTable['output_type'] = 'display_data';\n",
              "        await google.colab.output.renderOutput(dataTable, element);\n",
              "        const docLink = document.createElement('div');\n",
              "        docLink.innerHTML = docLinkHtml;\n",
              "        element.appendChild(docLink);\n",
              "      }\n",
              "    </script>\n",
              "  </div>\n",
              "\n",
              "\n",
              "<div id=\"df-dfd6e063-9099-4360-8f0d-1823defc74cc\">\n",
              "  <button class=\"colab-df-quickchart\" onclick=\"quickchart('df-dfd6e063-9099-4360-8f0d-1823defc74cc')\"\n",
              "            title=\"Suggest charts\"\n",
              "            style=\"display:none;\">\n",
              "\n",
              "<svg xmlns=\"http://www.w3.org/2000/svg\" height=\"24px\"viewBox=\"0 0 24 24\"\n",
              "     width=\"24px\">\n",
              "    <g>\n",
              "        <path d=\"M19 3H5c-1.1 0-2 .9-2 2v14c0 1.1.9 2 2 2h14c1.1 0 2-.9 2-2V5c0-1.1-.9-2-2-2zM9 17H7v-7h2v7zm4 0h-2V7h2v10zm4 0h-2v-4h2v4z\"/>\n",
              "    </g>\n",
              "</svg>\n",
              "  </button>\n",
              "\n",
              "<style>\n",
              "  .colab-df-quickchart {\n",
              "      --bg-color: #E8F0FE;\n",
              "      --fill-color: #1967D2;\n",
              "      --hover-bg-color: #E2EBFA;\n",
              "      --hover-fill-color: #174EA6;\n",
              "      --disabled-fill-color: #AAA;\n",
              "      --disabled-bg-color: #DDD;\n",
              "  }\n",
              "\n",
              "  [theme=dark] .colab-df-quickchart {\n",
              "      --bg-color: #3B4455;\n",
              "      --fill-color: #D2E3FC;\n",
              "      --hover-bg-color: #434B5C;\n",
              "      --hover-fill-color: #FFFFFF;\n",
              "      --disabled-bg-color: #3B4455;\n",
              "      --disabled-fill-color: #666;\n",
              "  }\n",
              "\n",
              "  .colab-df-quickchart {\n",
              "    background-color: var(--bg-color);\n",
              "    border: none;\n",
              "    border-radius: 50%;\n",
              "    cursor: pointer;\n",
              "    display: none;\n",
              "    fill: var(--fill-color);\n",
              "    height: 32px;\n",
              "    padding: 0;\n",
              "    width: 32px;\n",
              "  }\n",
              "\n",
              "  .colab-df-quickchart:hover {\n",
              "    background-color: var(--hover-bg-color);\n",
              "    box-shadow: 0 1px 2px rgba(60, 64, 67, 0.3), 0 1px 3px 1px rgba(60, 64, 67, 0.15);\n",
              "    fill: var(--button-hover-fill-color);\n",
              "  }\n",
              "\n",
              "  .colab-df-quickchart-complete:disabled,\n",
              "  .colab-df-quickchart-complete:disabled:hover {\n",
              "    background-color: var(--disabled-bg-color);\n",
              "    fill: var(--disabled-fill-color);\n",
              "    box-shadow: none;\n",
              "  }\n",
              "\n",
              "  .colab-df-spinner {\n",
              "    border: 2px solid var(--fill-color);\n",
              "    border-color: transparent;\n",
              "    border-bottom-color: var(--fill-color);\n",
              "    animation:\n",
              "      spin 1s steps(1) infinite;\n",
              "  }\n",
              "\n",
              "  @keyframes spin {\n",
              "    0% {\n",
              "      border-color: transparent;\n",
              "      border-bottom-color: var(--fill-color);\n",
              "      border-left-color: var(--fill-color);\n",
              "    }\n",
              "    20% {\n",
              "      border-color: transparent;\n",
              "      border-left-color: var(--fill-color);\n",
              "      border-top-color: var(--fill-color);\n",
              "    }\n",
              "    30% {\n",
              "      border-color: transparent;\n",
              "      border-left-color: var(--fill-color);\n",
              "      border-top-color: var(--fill-color);\n",
              "      border-right-color: var(--fill-color);\n",
              "    }\n",
              "    40% {\n",
              "      border-color: transparent;\n",
              "      border-right-color: var(--fill-color);\n",
              "      border-top-color: var(--fill-color);\n",
              "    }\n",
              "    60% {\n",
              "      border-color: transparent;\n",
              "      border-right-color: var(--fill-color);\n",
              "    }\n",
              "    80% {\n",
              "      border-color: transparent;\n",
              "      border-right-color: var(--fill-color);\n",
              "      border-bottom-color: var(--fill-color);\n",
              "    }\n",
              "    90% {\n",
              "      border-color: transparent;\n",
              "      border-bottom-color: var(--fill-color);\n",
              "    }\n",
              "  }\n",
              "</style>\n",
              "\n",
              "  <script>\n",
              "    async function quickchart(key) {\n",
              "      const quickchartButtonEl =\n",
              "        document.querySelector('#' + key + ' button');\n",
              "      quickchartButtonEl.disabled = true;  // To prevent multiple clicks.\n",
              "      quickchartButtonEl.classList.add('colab-df-spinner');\n",
              "      try {\n",
              "        const charts = await google.colab.kernel.invokeFunction(\n",
              "            'suggestCharts', [key], {});\n",
              "      } catch (error) {\n",
              "        console.error('Error during call to suggestCharts:', error);\n",
              "      }\n",
              "      quickchartButtonEl.classList.remove('colab-df-spinner');\n",
              "      quickchartButtonEl.classList.add('colab-df-quickchart-complete');\n",
              "    }\n",
              "    (() => {\n",
              "      let quickchartButtonEl =\n",
              "        document.querySelector('#df-dfd6e063-9099-4360-8f0d-1823defc74cc button');\n",
              "      quickchartButtonEl.style.display =\n",
              "        google.colab.kernel.accessAllowed ? 'block' : 'none';\n",
              "    })();\n",
              "  </script>\n",
              "</div>\n",
              "    </div>\n",
              "  </div>\n"
            ],
            "application/vnd.google.colaboratory.intrinsic+json": {
              "type": "dataframe",
              "variable_name": "final_df",
              "summary": "{\n  \"name\": \"final_df\",\n  \"rows\": 356,\n  \"fields\": [\n    {\n      \"column\": \"First Name\",\n      \"properties\": {\n        \"dtype\": \"string\",\n        \"num_unique_values\": 170,\n        \"samples\": [\n          \"Elizabeth\",\n          \"Sharon\",\n          \"Ashley\"\n        ],\n        \"semantic_type\": \"\",\n        \"description\": \"\"\n      }\n    },\n    {\n      \"column\": \"Salary\",\n      \"properties\": {\n        \"dtype\": \"number\",\n        \"std\": 33661,\n        \"min\": 0,\n        \"max\": 149903,\n        \"num_unique_values\": 354,\n        \"samples\": [\n          44857,\n          130577,\n          106249\n        ],\n        \"semantic_type\": \"\",\n        \"description\": \"\"\n      }\n    },\n    {\n      \"column\": \"Team\",\n      \"properties\": {\n        \"dtype\": \"string\",\n        \"num_unique_values\": 10,\n        \"samples\": [\n          \"Sales\",\n          \"Marketing\",\n          \"Engineering\"\n        ],\n        \"semantic_type\": \"\",\n        \"description\": \"\"\n      }\n    }\n  ]\n}"
            }
          },
          "metadata": {},
          "execution_count": 102
        }
      ]
    }
  ]
}