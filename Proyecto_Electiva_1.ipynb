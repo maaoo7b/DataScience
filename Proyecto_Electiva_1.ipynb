{
  "nbformat": 4,
  "nbformat_minor": 0,
  "metadata": {
    "colab": {
      "provenance": []
    },
    "kernelspec": {
      "name": "ir",
      "display_name": "R"
    },
    "language_info": {
      "name": "R"
    }
  },
  "cells": [
    {
      "cell_type": "markdown",
      "source": [
        "**PROYECTO ELECTIVA I.**\n",
        "\n",
        "   Integrantes:\n",
        "\n",
        "*   Brayan Mauricio Cruz Martínez.\n",
        "*   Juan Manuel López Pachón\n",
        "*   Yesika Andrea Rojas Nuñez.\n",
        "\n",
        "\n",
        "\n",
        "\n"
      ],
      "metadata": {
        "id": "XxZzvWVFAd3q"
      }
    },
    {
      "cell_type": "code",
      "source": [
        "install.packages(\"nortest\")\n",
        "library(readr)\n",
        "library(dplyr)\n",
        "library(tidyr)\n",
        "library(nortest)\n",
        "library(ggplot2)"
      ],
      "metadata": {
        "id": "vpzAXFVNHMFS"
      },
      "execution_count": null,
      "outputs": []
    },
    {
      "cell_type": "code",
      "source": [
        "listings <- read.delim(file=\"/content/listings.csv\", sep=\",\")\n",
        "View(listings)"
      ],
      "metadata": {
        "id": "Y2u4pzWuHXjX"
      },
      "execution_count": null,
      "outputs": []
    },
    {
      "cell_type": "markdown",
      "source": [
        "**Hipótesis 1.**\n",
        "\n",
        "Los anfitriones con un número de propiedades inferior a 5 tienen una puntuación de comunicación promedio mayor con respecto a los anfitriones que tienen entre 6 y 10 propiedades listadas."
      ],
      "metadata": {
        "id": "cmLTwX3WAwkw"
      }
    },
    {
      "cell_type": "code",
      "source": [
        "df1 <- select(listings, host_listings_count,review_scores_communication)\n",
        "\n",
        "#sum(is.na(df1$host_listings_count))\n",
        "#sum(is.na(df1$review_scores_communication))\n",
        "\n",
        "\n",
        "df1 <- filter(df1, host_listings_count<=10) %>% select(host_listings_count,review_scores_communication)\n",
        "df1$n_host<-cut(df1$host_listings_count, breaks= c(0,5,10), labels = c(\"1-5\",\"6-10\"))\n",
        "\n",
        "df1 <- subset(df1, !is.na(review_scores_communication))\n",
        "\n",
        "#sum(is.na(df1$n_host))\n",
        "\n",
        "summary(df1)\n",
        "\n",
        "rangoA <- filter(df1, n_host==\"1-5\") %>% select(review_scores_communication)\n",
        "meanA <- mean(rangoA$review_scores_communication)\n",
        "#View(meanA)\n",
        "hist(rangoA$review_scores_communication,\n",
        "     main = \"Histograma promedio calificación #propiedades 1-5\",  # Título del histograma\n",
        "     xlab = \"Calificación\",                  # Etiqueta del eje x\n",
        "     ylab = \"Frecuencia\",               # Etiqueta del eje y\n",
        "     col = \"pink\",                      # Color de las barras\n",
        "     border = \"black\")                  # Color del borde de las barras)\n",
        "abline(v = meanA, col = \"red\", lwd = 2)\n",
        "\n",
        "\n",
        "rangoB <- filter(df1, n_host==\"6-10\") %>% select(review_scores_communication)\n",
        "meanB <- mean(rangoB$review_scores_communication)\n",
        "View(meanB)\n",
        "hist(rangoB$review_scores_communication,\n",
        "     main = \"Histograma promedio calificación #propiedades 6-10\",  # Título del histograma\n",
        "     xlab = \"Calificación\",                  # Etiqueta del eje x\n",
        "     ylab = \"Frecuencia\",               # Etiqueta del eje y\n",
        "     col = \"green\",                      # Color de las barras\n",
        "     border = \"black\")                  # Color del borde de las barras\n",
        "abline(v = meanB, col = \"red\", lwd = 2)\n"
      ],
      "metadata": {
        "id": "t0FU2yj2RNmc"
      },
      "execution_count": null,
      "outputs": []
    },
    {
      "cell_type": "markdown",
      "source": [
        "**Hipótesis 2**\n",
        "\n",
        "Todos los alojamientos enteros que se ofertan tienen un mínimo de noches de reserva de 3 o más."
      ],
      "metadata": {
        "id": "tacdjM1IxUkm"
      }
    },
    {
      "cell_type": "code",
      "source": [
        "df2 <- select(listings, property_type, minimum_nights)\n",
        "indices_entire <- grepl(\"^Entire\", df2$property_type, ignore.case = TRUE)\n",
        "\n",
        "indices_si <- df2$minimum_nights >= 3\n",
        "indices1 <- indices_entire&indices_si\n",
        "gg1 <- df2[indices1,]\n",
        "\n",
        "  # sum(is.na(gg1$minimum_nights))\n",
        "\n",
        "indices_no <- df2$minimum_nights < 3\n",
        "indices2 <- indices_entire&indices_no\n",
        "gg2 <- df2[indices2,]\n",
        "\n",
        " #  sum(is.na(gg2$minimum_nights))\n",
        "\n",
        "# Contar cuantos tienen minimo de noches 3 o mas de 3\n",
        "numg1 <- length(gg1$minimum_nights)\n",
        "numg2 <- length(gg2$minimum_nights)\n",
        "\n",
        "conteo <- c(\"Mayores a 3\" = numg1, \"No mayores a 3\" = numg2)\n",
        "\n",
        "View(numg1)\n",
        "View(numg2)\n",
        "\n",
        "pie(conteo , labels = names(conteo), main = \"Minimo de noches\")\n",
        "legend(\"topright\", legend = names(conteo), fill = rainbow(length(conteo)))\n",
        "\n",
        "#View(gg1)\n",
        "#View(gg2)\n",
        "\n",
        "\n",
        "#PENDIENTE PORCENTAJE :P"
      ],
      "metadata": {
        "id": "MdGTxRemVjH_"
      },
      "execution_count": null,
      "outputs": []
    },
    {
      "cell_type": "markdown",
      "source": [
        "**Hipótesis 3.**\n",
        "\n",
        "La calificación promedio de los alojamientos que tienen política pet friendly es mayor a la calificación promedio de los que no cuentan con ella."
      ],
      "metadata": {
        "id": "nexyhicuA5QY"
      }
    },
    {
      "cell_type": "code",
      "source": [
        "#SEPARACIÓN DE VARIABLE NAME PARA OBTENER LA CALIFICACIÓN\n",
        "df3 <- select(listings, name,amenities)\n",
        "df3<-separate(df3, name, c(\"a\", \"calificacion\",\"c\",\"d\"),sep=\"·\")\n",
        "df3$calificacion <- gsub(\"\\\\★\", \"\", df3$calificacion)\n",
        "View(df3)"
      ],
      "metadata": {
        "id": "2zX7AknKBUrM"
      },
      "execution_count": null,
      "outputs": []
    },
    {
      "cell_type": "code",
      "source": [
        "# Encuentra los registros que contienen \"Pets allowed\"\n",
        "indices_pet <- grepl(\"\\\\bPets allowed\\\\b\", df3$amenities, ignore.case = TRUE)\n",
        "# Filtrar los registros que contienen \"Pets allowed\"\n",
        "gg1 <- df3[indices_pet,c(\"amenities\",\"calificacion\")]\n",
        "gg1$calificacion <- as.numeric(gg1$calificacion)\n",
        "\n",
        "x <- sum(is.na(gg1$calificacion))\n",
        "\n",
        "gg1 <- subset(gg1, !is.na(calificacion))\n",
        "#View(gg)\n",
        "\n",
        "mean(gg1$calificacion)"
      ],
      "metadata": {
        "id": "aKSRhScREJrA"
      },
      "execution_count": null,
      "outputs": []
    },
    {
      "cell_type": "code",
      "source": [
        "indices_pet <- !grepl(\"\\\\bPets allowed\\\\b\", df3$amenities, ignore.case = TRUE)\n",
        "# Filtrar los registros que no contienen \"Pets allowed\"\n",
        "gg2 <- df3[indices_pet,c(\"amenities\",\"calificacion\")]\n",
        "gg2$calificacion <- as.numeric(gg2$calificacion)\n",
        "\n",
        "x <- sum(is.na(gg2$calificacion))\n",
        "\n",
        "gg2 <- subset(gg2, !is.na(calificacion))\n",
        "#View(gg)\n",
        "\n"
      ],
      "metadata": {
        "id": "bVTNMH6gQidO"
      },
      "execution_count": null,
      "outputs": []
    },
    {
      "cell_type": "code",
      "source": [
        "# Preparar los datos en un DataFrame\n",
        "mean(gg1$calificacion)\n",
        "\n",
        "datos <- data.frame(\n",
        "  Categoria = \"Pet friendly\",\n",
        "  Objetivo = 5,\n",
        "  Comparacion1 = mean(gg1$calificacion)\n",
        ")\n",
        "\n",
        "# Crear el diagrama de bala horizontal para comparar las dos medidas\n",
        "ggplot(datos, aes(x = Categoria)) +\n",
        "  geom_col(aes(y = Objetivo, fill = \"Objetivo\"), width = 0.5) +\n",
        "  geom_col(aes(y = Comparacion1, fill = \"Media de calificación\"), width = 0.5) +\n",
        "  scale_fill_manual(values = c(\"Objetivo\" = \"lightblue\", \"Media de calificación\" = \"red\")) +\n",
        "  theme_minimal() +\n",
        "  labs(title = \"Media de calificacion Pet-friendly\", y = NULL, x = \"Valor\") +\n",
        "  coord_flip()  # Esta línea invierte los ejes para hacerlo horizontal"
      ],
      "metadata": {
        "id": "JtEAs7iyGKCA"
      },
      "execution_count": null,
      "outputs": []
    },
    {
      "cell_type": "code",
      "source": [
        "mean(gg2$calificacion)\n",
        "datos <- data.frame(\n",
        "  Categoria = \"No pet friendly\",\n",
        "  Objetivo = 5,\n",
        "  Comparacion1 = mean(gg2$calificacion)\n",
        ")\n",
        "\n",
        "# Crear el diagrama de bala horizontal para comparar las dos medidas\n",
        "ggplot(datos, aes(x = Categoria)) +\n",
        "  geom_col(aes(y = Objetivo, fill = \"Objetivo\"), width = 0.5) +\n",
        "  geom_col(aes(y = Comparacion1, fill = \"Media de calificación\"), width = 0.5) +\n",
        "  scale_fill_manual(values = c(\"Objetivo\" = \"lightblue\", \"Media de calificación\" = \"green\")) +\n",
        "  theme_minimal() +\n",
        "  labs(title = \"Media de calificacion NO Pet-friendly\", y = NULL, x = \"Valor\") +\n",
        "  coord_flip()  # Esta línea invierte los ejes para hacerlo horizontal"
      ],
      "metadata": {
        "id": "gPK69RW6HHGk"
      },
      "execution_count": null,
      "outputs": []
    },
    {
      "cell_type": "markdown",
      "source": [
        "**Hipótesis 4.**\n",
        "\n",
        "El puntaje de comunicación promedio de los anfitriones disminuye con respecto al tiempo de respuesta."
      ],
      "metadata": {
        "id": "r-b4nsvPA_Rv"
      }
    },
    {
      "cell_type": "code",
      "source": [
        "df4 <- select(listings, host_response_time, review_scores_communication)\n",
        "    sum(is.na(df4$review_scores_communication))\n",
        "df4 <- subset(df4, !is.na(review_scores_communication))\n",
        "\n",
        "df4 <- df4 %>% mutate(host_response_time = ifelse(host_response_time == 'N/A',NA,host_response_time))\n",
        "    sum(is.na(df4$host_response_time))\n",
        "df4 <- subset(df4, !is.na(host_response_time))\n",
        "\n",
        "#within an hour; within a day; within a few hours, a few days or more\n",
        "dfA <- filter(df4,host_response_time == \"within an hour\") %>% select(review_scores_communication,host_response_time)\n",
        "dfB <- filter(df4,host_response_time == \"within a day\") %>% select(review_scores_communication,host_response_time)\n",
        "dfC <- filter(df4,host_response_time == \"within a few hours\") %>% select(review_scores_communication,host_response_time)\n",
        "dfD <- filter(df4,host_response_time == \"a few days or more\") %>% select(review_scores_communication,host_response_time)\n",
        "\n",
        "mean(dfA$review_scores_communication)\n",
        "mean(dfB$review_scores_communication)\n",
        "mean(dfC$review_scores_communication)\n",
        "mean(dfD$review_scores_communication)\n",
        "\n",
        "\n",
        "#View(df4)\n"
      ],
      "metadata": {
        "id": "O5GL878Xb808"
      },
      "execution_count": null,
      "outputs": []
    },
    {
      "cell_type": "code",
      "source": [
        "mean(dfA$review_scores_communication)\n",
        "mean(dfB$review_scores_communication)\n",
        "mean(dfC$review_scores_communication)\n",
        "mean(dfD$review_scores_communication)\n",
        "\n",
        "datos <- data.frame(\n",
        "  Categoria = c(\"Within an hour\", \"Within a day\", \"Within a few hours\",\"A few days or more\"),\n",
        "  Objetivo = c(5, 5, 5, 5),\n",
        "  Comparacion = c(mean(dfA$review_scores_communication), mean(dfB$review_scores_communication),mean(dfC$review_scores_communication),mean(dfD$review_scores_communication))\n",
        ")\n",
        "\n",
        "ggplot(datos, aes(x = Categoria)) +\n",
        "  geom_bar(aes(y = Objetivo), fill = \"red\", stat = \"identity\") +\n",
        "  geom_bar(aes(y = Comparacion), fill = \"green\", stat = \"identity\") +\n",
        "  theme_minimal() +\n",
        "  labs(title = \"Diagrama de Bala\", y = \"Valor\", x = NULL) +\n",
        "  scale_y_continuous(expand = c(0, 0), limits = c(0, max(datos$Objetivo + 5)))"
      ],
      "metadata": {
        "id": "cyiDM6is_KLP"
      },
      "execution_count": null,
      "outputs": []
    },
    {
      "cell_type": "markdown",
      "source": [
        "**Hipótesis 5.**\n",
        "\n",
        "El precio del hospedaje está por encima del promedio\n",
        "si sé es superhost."
      ],
      "metadata": {
        "id": "9LpbId5CBD7X"
      }
    },
    {
      "cell_type": "code",
      "source": [
        "df5 <- select(listings, price, host_is_superhost)\n",
        "df5$price <- gsub(\"\\\\$\", \"\", df5$price) %>% as.numeric\n",
        "df5 <- df5 %>%  mutate(host_is_superhost = ifelse(host_is_superhost == 'f', FALSE, ifelse(host_is_superhost == 't', TRUE, NA)))\n",
        "  sum(is.na(df5$host_is_superhost))\n",
        "df5 <- subset(df5, !is.na(host_is_superhost))\n",
        "  sum(is.na(df5$price))\n",
        "\n",
        "media_columna <- mean(df5$price, na.rm = TRUE)\n",
        "df5$price[is.na(df5$price)] <- media_columna\n",
        "\n",
        "dfT <- filter(df5,host_is_superhost == TRUE) %>% select(price,host_is_superhost)\n",
        "\n",
        "dfF <- filter(df5,host_is_superhost == FALSE) %>% select(price,host_is_superhost)\n",
        "\n",
        "summary(dfT)\n",
        "summary(dfF)"
      ],
      "metadata": {
        "id": "4l82G-r4cvg7"
      },
      "execution_count": null,
      "outputs": []
    },
    {
      "cell_type": "code",
      "source": [
        "#CHI-CUADRADO.\n",
        "df5$price <- cut(df5$price, breaks= c(30,100,500,950), labels = c(\"Económico\",\"Estándar\",\"Lujoso\"))\n",
        "gg <- table(df5$host_is_superhost,df5$price)\n",
        "View(gg)\n",
        "\n",
        "chisq.test(gg)\n",
        "\n",
        "\n",
        "#¿Ser superhost influye en el precio del hospedaje?\n",
        "#H0 -> Si influe\n",
        "#H1 -> No influye\n"
      ],
      "metadata": {
        "id": "0vmpGErx2Cr-"
      },
      "execution_count": null,
      "outputs": []
    }
  ]
}